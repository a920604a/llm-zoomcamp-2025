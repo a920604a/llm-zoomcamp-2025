{
 "cells": [
  {
   "cell_type": "code",
   "execution_count": 1,
   "id": "ec63644b",
   "metadata": {},
   "outputs": [
    {
     "name": "stderr",
     "output_type": "stream",
     "text": [
      "/Users/chenyuan/anaconda3/envs/llm/lib/python3.11/site-packages/tqdm/auto.py:21: TqdmWarning: IProgress not found. Please update jupyter and ipywidgets. See https://ipywidgets.readthedocs.io/en/stable/user_install.html\n",
      "  from .autonotebook import tqdm as notebook_tqdm\n"
     ]
    }
   ],
   "source": [
    "from fastembed import TextEmbedding\n",
    "from qdrant_client import QdrantClient, models\n"
   ]
  },
  {
   "cell_type": "code",
   "execution_count": 2,
   "id": "0ebbc9a6",
   "metadata": {},
   "outputs": [],
   "source": [
    "\n",
    "client = QdrantClient(\"http://localhost:6333\") #connecting to local Qdrant instance\n"
   ]
  },
  {
   "cell_type": "code",
   "execution_count": 3,
   "id": "a6102273",
   "metadata": {},
   "outputs": [],
   "source": [
    "model_handle = \"jinaai/jina-embeddings-v2-small-en\"\n",
    "EMBEDDING_DIMENSIONALITY = 512\n"
   ]
  },
  {
   "cell_type": "markdown",
   "id": "d3778692",
   "metadata": {},
   "source": [
    "# Q1. Embedding the query\n"
   ]
  },
  {
   "cell_type": "code",
   "execution_count": 4,
   "id": "f6ab1724",
   "metadata": {},
   "outputs": [
    {
     "name": "stdout",
     "output_type": "stream",
     "text": [
      "-0.11726374368207196\n"
     ]
    }
   ],
   "source": [
    "# 輸入查詢句子\n",
    "query = \"I just discovered the course. Can I join now?\"\n",
    "embed_model = TextEmbedding(model_name=\"jinaai/jina-embeddings-v2-small-en\")\n",
    "\n",
    "# 計算嵌入向量\n",
    "embedding = list(embed_model.embed([query]))[0]  # 取出第一個結果\n",
    "\n",
    "min_value = min(embedding)\n",
    "print(min_value)\n"
   ]
  },
  {
   "cell_type": "markdown",
   "id": "39a0379c",
   "metadata": {},
   "source": [
    "# Q2. Cosine similarity with another vector\n"
   ]
  },
  {
   "cell_type": "code",
   "execution_count": 5,
   "id": "a2bad367",
   "metadata": {},
   "outputs": [
    {
     "name": "stdout",
     "output_type": "stream",
     "text": [
      "0.9008529058287051\n"
     ]
    }
   ],
   "source": [
    "\n",
    "import numpy as np\n",
    "\n",
    "# 文字查詢與文件\n",
    "doc = \"Can I still join the course after the start date?\"\n",
    "\n",
    "# 各自嵌入\n",
    "q_vector = list(embed_model.embed([query]))[0]\n",
    "doc_vector = list(embed_model.embed([doc]))[0]\n",
    "\n",
    "# 計算 cosine similarity（等同 dot product，因為已正規化）\n",
    "similarity = np.dot(q_vector, doc_vector)\n",
    "\n",
    "print(similarity)"
   ]
  },
  {
   "cell_type": "markdown",
   "id": "2c4746b4",
   "metadata": {},
   "source": [
    "# Q3. Ranking by cosine\n"
   ]
  },
  {
   "cell_type": "code",
   "execution_count": 6,
   "id": "3ea53d2e",
   "metadata": {},
   "outputs": [],
   "source": [
    "documents = [{'text': \"Yes, even if you don't register, you're still eligible to submit the homeworks.\\nBe aware, however, that there will be deadlines for turning in the final projects. So don't leave everything for the last minute.\",\n",
    "  'section': 'General course-related questions',\n",
    "  'question': 'Course - Can I still join the course after the start date?',\n",
    "  'course': 'data-engineering-zoomcamp'},\n",
    " {'text': 'Yes, we will keep all the materials after the course finishes, so you can follow the course at your own pace after it finishes.\\nYou can also continue looking at the homeworks and continue preparing for the next cohort. I guess you can also start working on your final capstone project.',\n",
    "  'section': 'General course-related questions',\n",
    "  'question': 'Course - Can I follow the course after it finishes?',\n",
    "  'course': 'data-engineering-zoomcamp'},\n",
    " {'text': \"The purpose of this document is to capture frequently asked technical questions\\nThe exact day and hour of the course will be 15th Jan 2024 at 17h00. The course will start with the first  “Office Hours'' live.1\\nSubscribe to course public Google Calendar (it works from Desktop only).\\nRegister before the course starts using this link.\\nJoin the course Telegram channel with announcements.\\nDon’t forget to register in DataTalks.Club's Slack and join the channel.\",\n",
    "  'section': 'General course-related questions',\n",
    "  'question': 'Course - When will the course start?',\n",
    "  'course': 'data-engineering-zoomcamp'},\n",
    " {'text': 'You can start by installing and setting up all the dependencies and requirements:\\nGoogle cloud account\\nGoogle Cloud SDK\\nPython 3 (installed with Anaconda)\\nTerraform\\nGit\\nLook over the prerequisites and syllabus to see if you are comfortable with these subjects.',\n",
    "  'section': 'General course-related questions',\n",
    "  'question': 'Course - What can I do before the course starts?',\n",
    "  'course': 'data-engineering-zoomcamp'},\n",
    " {'text': 'Star the repo! Share it with friends if you find it useful ❣️\\nCreate a PR if you see you can improve the text or the structure of the repository.',\n",
    "  'section': 'General course-related questions',\n",
    "  'question': 'How can we contribute to the course?',\n",
    "  'course': 'data-engineering-zoomcamp'}\n",
    " ]"
   ]
  },
  {
   "cell_type": "code",
   "execution_count": 7,
   "id": "4668957a",
   "metadata": {},
   "outputs": [
    {
     "name": "stdout",
     "output_type": "stream",
     "text": [
      "points=[ScoredPoint(id=1, version=0, score=0.81823784, payload={'question': 'Course - Can I follow the course after it finishes?', 'text': 'Yes, we will keep all the materials after the course finishes, so you can follow the course at your own pace after it finishes.\\nYou can also continue looking at the homeworks and continue preparing for the next cohort. I guess you can also start working on your final capstone project.', 'course': 'data-engineering-zoomcamp'}, vector=None, shard_key=None, order_value=None)]\n",
      "最相似文件 ID: 1\n",
      "相似度分數: 0.8182\n",
      "問題: Course - Can I follow the course after it finishes?\n",
      "內容摘要: Yes, we will keep all the materials after the course finishes, so you can follow the course at your own pace after it finishes.\n",
      "You can also continue looking at the homeworks and continue preparing fo...\n"
     ]
    }
   ],
   "source": [
    "# 從 documents 中擷取所有問題\n",
    "questions = [doc['question'] for doc in documents]\n",
    "\n",
    "collection_name = \"question3\"\n",
    "\n",
    "# 2. 建立 Qdrant collection\n",
    "client.delete_collection(collection_name=collection_name)\n",
    "\n",
    "client.create_collection(  # recreate 可避免重複建立\n",
    "    collection_name=collection_name,\n",
    "    vectors_config=models.VectorParams(\n",
    "        \n",
    "        size=EMBEDDING_DIMENSIONALITY,\n",
    "        distance=models.Distance.COSINE\n",
    "    )\n",
    ")\n",
    "\n",
    "\n",
    "\n",
    "# 3. 上傳向量與 payload\n",
    "points = [\n",
    "    models.PointStruct(id=idx,\n",
    "                    vector=models.Document(text=doc['text'], model=model_handle),\n",
    "                    payload={\n",
    "                        \"question\": doc['question'],\n",
    "                        \"text\": doc['text'],\n",
    "                        \"course\": doc['course']\n",
    "                        }\n",
    "                    )\n",
    "    for idx, doc in enumerate(documents)\n",
    "]\n",
    "\n",
    "client.upsert(collection_name=collection_name, points=points)\n",
    "\n",
    "def search(query, limit=1):\n",
    "    results = client.query_points(\n",
    "        collection_name=collection_name,\n",
    "        query=models.Document(\n",
    "            text=query,\n",
    "            model=model_handle\n",
    "        ),\n",
    "        limit=limit,\n",
    "        with_payload=True\n",
    "    )\n",
    "    return results\n",
    "\n",
    "# 4. 查詢最相似的問句\n",
    "\n",
    "res = search(\"I just discovered the course. Can I join now?\", limit=1)\n",
    "# print(\"最相似的文件 id:\", res[0].id)\n",
    "# print(\"內容:\", res[0].payload)\n",
    "\n",
    "print(res)\n",
    "point = res.points[0]\n",
    "\n",
    "print(f\"最相似文件 ID: {point.id}\")\n",
    "print(f\"相似度分數: {point.score:.4f}\")\n",
    "print(f\"問題: {point.payload['question']}\")\n",
    "print(f\"內容摘要: {point.payload['text'][:200]}...\")\n"
   ]
  },
  {
   "cell_type": "markdown",
   "id": "04d7dfc4",
   "metadata": {},
   "source": [
    "# Q4. Ranking by cosine, version two\n"
   ]
  },
  {
   "cell_type": "code",
   "execution_count": 8,
   "id": "9f816dcc",
   "metadata": {},
   "outputs": [
    {
     "name": "stdout",
     "output_type": "stream",
     "text": [
      "points=[ScoredPoint(id=0, version=0, score=0.85145426, payload={'text': \"Yes, even if you don't register, you're still eligible to submit the homeworks.\\nBe aware, however, that there will be deadlines for turning in the final projects. So don't leave everything for the last minute.\", 'section': 'General course-related questions', 'question': 'Course - Can I still join the course after the start date?', 'course': 'data-engineering-zoomcamp'}, vector=None, shard_key=None, order_value=None)]\n",
      "最相似文件 ID: 0\n",
      "相似度分數: 0.8515\n",
      "問題: Course - Can I still join the course after the start date?\n",
      "內容摘要: Yes, even if you don't register, you're still eligible to submit the homeworks.\n",
      "Be aware, however, that there will be deadlines for turning in the final projects. So don't leave everything for the las...\n"
     ]
    }
   ],
   "source": [
    "# 從 documents 中擷取所有問題\n",
    "questions = [doc['question'] for doc in documents]\n",
    "\n",
    "collection_name = \"question4\"\n",
    "\n",
    "# 2. 建立 Qdrant collection\n",
    "client.delete_collection(collection_name=collection_name)\n",
    "\n",
    "client.create_collection(  # recreate 可避免重複建立\n",
    "    collection_name=collection_name,\n",
    "    vectors_config=models.VectorParams(\n",
    "        \n",
    "        size=EMBEDDING_DIMENSIONALITY,\n",
    "        distance=models.Distance.COSINE\n",
    "    )\n",
    ")\n",
    "\n",
    "\n",
    "\n",
    "# 3. 上傳向量與 payload\n",
    "points = []\n",
    "\n",
    "for i, doc in enumerate(documents):\n",
    "    full_text = doc['question'] + ' ' + doc['text']\n",
    "    vector = models.Document(text=full_text, model=model_handle)\n",
    "    point = models.PointStruct(\n",
    "        id=i,\n",
    "        vector=vector,\n",
    "        payload=doc\n",
    "    )\n",
    "    points.append(point)\n",
    "    \n",
    "    \n",
    "client.upsert(collection_name=collection_name, points=points)\n",
    "\n",
    "def search(query, limit=1):\n",
    "    results = client.query_points(\n",
    "        collection_name=collection_name,\n",
    "        query=models.Document(\n",
    "            text=query,\n",
    "            model=model_handle\n",
    "        ),\n",
    "        limit=limit,\n",
    "        with_payload=True\n",
    "    )\n",
    "    return results\n",
    "\n",
    "# 4. 查詢最相似的問句\n",
    "\n",
    "res = search(\"I just discovered the course. Can I join now?\", limit=1)\n",
    "# print(\"最相似的文件 id:\", res[0].id)\n",
    "# print(\"內容:\", res[0].payload)\n",
    "\n",
    "print(res)\n",
    "point = res.points[0]\n",
    "\n",
    "print(f\"最相似文件 ID: {point.id}\")\n",
    "print(f\"相似度分數: {point.score:.4f}\")\n",
    "print(f\"問題: {point.payload['question']}\")\n",
    "print(f\"內容摘要: {point.payload['text'][:200]}...\")\n"
   ]
  },
  {
   "cell_type": "markdown",
   "id": "d6ffafc9",
   "metadata": {},
   "source": [
    "# Q5. Selecting the embedding model\n"
   ]
  },
  {
   "cell_type": "code",
   "execution_count": 9,
   "id": "be0081e3",
   "metadata": {},
   "outputs": [
    {
     "name": "stderr",
     "output_type": "stream",
     "text": [
      "\u001b[32m2025-06-28 08:34:41.068\u001b[0m | \u001b[33m\u001b[1mWARNING \u001b[0m | \u001b[36mfastembed.embedding\u001b[0m:\u001b[36m<module>\u001b[0m:\u001b[36m7\u001b[0m - \u001b[33m\u001b[1mDefaultEmbedding, FlagEmbedding, JinaEmbedding are deprecated.Use from fastembed import TextEmbedding instead.\u001b[0m\n"
     ]
    },
    {
     "name": "stdout",
     "output_type": "stream",
     "text": [
      "最小維度模型: BAAI/bge-small-en (384 dimensions)\n"
     ]
    }
   ],
   "source": [
    "from fastembed.embedding import TextEmbedding\n",
    "\n",
    "models = TextEmbedding.list_supported_models()\n",
    "\n",
    "# 找出最小維度的模型\n",
    "min_model = min(models, key=lambda x: x['dim'])\n",
    "\n",
    "print(f\"最小維度模型: {min_model['model']} ({min_model['dim']} dimensions)\")\n"
   ]
  },
  {
   "cell_type": "code",
   "execution_count": null,
   "id": "76b15c95",
   "metadata": {},
   "outputs": [],
   "source": []
  },
  {
   "cell_type": "code",
   "execution_count": 10,
   "id": "f377bc30",
   "metadata": {},
   "outputs": [
    {
     "name": "stdout",
     "output_type": "stream",
     "text": [
      "Embedding vector dimension: 384\n"
     ]
    }
   ],
   "source": [
    "from fastembed.embedding import TextEmbedding\n",
    "\n",
    "embedder = TextEmbedding(model_name=\"BAAI/bge-small-en\")\n",
    "\n",
    "# embed 回傳 generator，要先轉成 list\n",
    "vectors = list(embedder.embed([\"Hello world!\"]))\n",
    "vector = vectors[0]\n",
    "\n",
    "print(f\"Embedding vector dimension: {len(vector)}\")  # 預期為 384\n"
   ]
  },
  {
   "cell_type": "markdown",
   "id": "4ff653b3",
   "metadata": {},
   "source": [
    "# Q6. Indexing with qdrant (2 points)\n"
   ]
  },
  {
   "cell_type": "code",
   "execution_count": 11,
   "id": "873d128f",
   "metadata": {},
   "outputs": [],
   "source": [
    "import requests \n",
    "\n",
    "docs_url = 'https://github.com/alexeygrigorev/llm-rag-workshop/raw/main/notebooks/documents.json'\n",
    "docs_response = requests.get(docs_url)\n",
    "documents_raw = docs_response.json()\n",
    "\n",
    "\n",
    "documents = []\n",
    "\n",
    "for course in documents_raw:\n",
    "    course_name = course['course']\n",
    "    if course_name != 'machine-learning-zoomcamp':\n",
    "        continue\n",
    "\n",
    "    for doc in course['documents']:\n",
    "        doc['course'] = course_name\n",
    "        documents.append(doc)\n",
    "        \n",
    "       "
   ]
  },
  {
   "cell_type": "code",
   "execution_count": 12,
   "id": "77666857",
   "metadata": {},
   "outputs": [
    {
     "data": {
      "text/plain": [
       "[{'text': 'Machine Learning Zoomcamp FAQ\\nThe purpose of this document is to capture frequently asked technical questions.\\nWe did this for our data engineering course and it worked quite well. Check this document for inspiration on how to structure your questions and answers:\\nData Engineering Zoomcamp FAQ\\nIn the course GitHub repository there’s a link. Here it is: https://airtable.com/shryxwLd0COOEaqXo\\nwork',\n",
       "  'section': 'General course-related questions',\n",
       "  'question': 'How do I sign up?',\n",
       "  'course': 'machine-learning-zoomcamp'},\n",
       " {'text': 'The course videos are pre-recorded, you can start watching the course right now.\\nWe will also occasionally have office hours - live sessions where we will answer your questions. The office hours sessions are recorded too.\\nYou can see the office hours as well as the pre-recorded course videos in the course playlist on YouTube.',\n",
       "  'section': 'General course-related questions',\n",
       "  'question': 'Is it going to be live? When?',\n",
       "  'course': 'machine-learning-zoomcamp'},\n",
       " {'text': 'Everything is recorded, so you won’t miss anything. You will be able to ask your questions for office hours in advance and we will cover them during the live stream. Also, you can always ask questions in Slack.',\n",
       "  'section': 'General course-related questions',\n",
       "  'question': 'What if I miss a session?',\n",
       "  'course': 'machine-learning-zoomcamp'},\n",
       " {'text': \"The bare minimum. The focus is more on practice, and we'll cover the theory only on the intuitive level.: https://mlbookcamp.com/article/python\\nFor example, we won't derive the gradient update rule for logistic regression (there are other great courses for that), but we'll cover how to use logistic regression and make sense of the results.\",\n",
       "  'section': 'General course-related questions',\n",
       "  'question': 'How much theory will you cover?',\n",
       "  'course': 'machine-learning-zoomcamp'},\n",
       " {'text': \"Yes! We'll cover some linear algebra in the course, but in general, there will be very few formulas, mostly code.\\nHere are some interesting videos covering linear algebra that you can already watch: ML Zoomcamp 1.8 - Linear Algebra Refresher from Alexey Grigorev or the excellent playlist from 3Blue1Brown Vectors | Chapter 1, Essence of linear algebra. Never hesitate to ask the community for help if you have any question.\\n(Mélanie Fouesnard)\",\n",
       "  'section': 'General course-related questions',\n",
       "  'question': \"I don't know math. Can I take the course?\",\n",
       "  'course': 'machine-learning-zoomcamp'}]"
      ]
     },
     "execution_count": 12,
     "metadata": {},
     "output_type": "execute_result"
    }
   ],
   "source": [
    "documents[:5]"
   ]
  },
  {
   "cell_type": "code",
   "execution_count": 20,
   "id": "9c3b5823",
   "metadata": {},
   "outputs": [
    {
     "data": {
      "text/plain": [
       "True"
      ]
     },
     "execution_count": 20,
     "metadata": {},
     "output_type": "execute_result"
    }
   ],
   "source": [
    "collection_name = \"question6\"\n",
    "\n",
    "# 2. 建立 Qdrant collection\n",
    "client.delete_collection(collection_name=collection_name)\n",
    "\n",
    "client.create_collection(  # recreate 可避免重複建立\n",
    "    collection_name=collection_name,\n",
    "    vectors_config=models.VectorParams(\n",
    "        \n",
    "        size=384,\n",
    "        distance=models.Distance.COSINE\n",
    "    )\n",
    ")"
   ]
  },
  {
   "cell_type": "code",
   "execution_count": 16,
   "id": "18e68126",
   "metadata": {},
   "outputs": [],
   "source": [
    "points = []\n",
    "id = 0\n",
    "from qdrant_client import QdrantClient, models\n",
    "for course in documents_raw:\n",
    "    for doc in course['documents']:\n",
    "        text = doc['question'] + ' ' + doc['text']\n",
    "        point = models.PointStruct(\n",
    "            id=id,\n",
    "            vector=models.Document(text=text, model=\"BAAI/bge-small-en\"), #embed text locally with \"jinaai/jina-embeddings-v2-small-en\" from FastEmbed\n",
    "            payload={\n",
    "                \"text\": doc['text'],\n",
    "                \"section\": doc['section'],\n",
    "                \"course\": course['course']\n",
    "            } #save all needed metadata fields\n",
    "        )\n",
    "        points.append(point)\n",
    "\n",
    "        id += 1\n",
    "        "
   ]
  },
  {
   "cell_type": "code",
   "execution_count": 21,
   "id": "1d4cd2a7",
   "metadata": {},
   "outputs": [
    {
     "data": {
      "text/plain": [
       "UpdateResult(operation_id=0, status=<UpdateStatus.COMPLETED: 'completed'>)"
      ]
     },
     "execution_count": 21,
     "metadata": {},
     "output_type": "execute_result"
    }
   ],
   "source": [
    "client.upsert(\n",
    "    collection_name=collection_name,  # collection name\n",
    "    points=points\n",
    ")"
   ]
  },
  {
   "cell_type": "code",
   "execution_count": 24,
   "id": "892f12e0",
   "metadata": {},
   "outputs": [
    {
     "name": "stdout",
     "output_type": "stream",
     "text": [
      "points=[ScoredPoint(id=449, version=0, score=0.8703172, payload={'text': 'Yes, you can. You won’t be able to submit some of the homeworks, but you can still take part in the course.\\nIn order to get a certificate, you need to submit 2 out of 3 course projects and review 3 peers’ Projects by the deadline. It means that if you join the course at the end of November and manage to work on two projects, you will still be eligible for a certificate.', 'section': 'General course-related questions', 'course': 'machine-learning-zoomcamp'}, vector=None, shard_key=None, order_value=None)]\n"
     ]
    }
   ],
   "source": [
    "\n",
    "def search(query, limit=1):\n",
    "    results = client.query_points(\n",
    "        collection_name=collection_name,\n",
    "        query=models.Document(\n",
    "            text=query,\n",
    "            model=\"BAAI/bge-small-en\"\n",
    "        ),\n",
    "        limit=limit,\n",
    "        with_payload=True\n",
    "    )\n",
    "    return results\n",
    "\n",
    "# 4. 查詢最相似的問句\n",
    "\n",
    "res = search(\"I just discovered the course. Can I join now?\", limit=1)\n",
    "print(res)"
   ]
  },
  {
   "cell_type": "code",
   "execution_count": null,
   "id": "0ac75ed3",
   "metadata": {},
   "outputs": [],
   "source": []
  }
 ],
 "metadata": {
  "kernelspec": {
   "display_name": "llm",
   "language": "python",
   "name": "python3"
  },
  "language_info": {
   "codemirror_mode": {
    "name": "ipython",
    "version": 3
   },
   "file_extension": ".py",
   "mimetype": "text/x-python",
   "name": "python",
   "nbconvert_exporter": "python",
   "pygments_lexer": "ipython3",
   "version": "3.11.13"
  }
 },
 "nbformat": 4,
 "nbformat_minor": 5
}
